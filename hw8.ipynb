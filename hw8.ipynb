{
 "cells": [
  {
   "cell_type": "code",
   "execution_count": 1,
   "id": "e994691f-e749-489e-a795-f3e94876d717",
   "metadata": {},
   "outputs": [],
   "source": [
    "import numpy as np\n",
    "import matplotlib.pyplot as plt"
   ]
  },
  {
   "cell_type": "code",
   "execution_count": 2,
   "id": "81e181bf-f05e-40a7-934f-7e450ff51250",
   "metadata": {},
   "outputs": [],
   "source": [
    "tx = open(\"text.txt\",'r').read()"
   ]
  },
  {
   "cell_type": "code",
   "execution_count": 3,
   "id": "d913a065-eb9e-402c-857f-327c6e522f8e",
   "metadata": {},
   "outputs": [
    {
     "name": "stdout",
     "output_type": "stream",
     "text": [
      "# of total words:  12391\n",
      "# of unique words:  3851\n"
     ]
    }
   ],
   "source": [
    "vocab = tx.split(\" \")\n",
    "print(\"# of total words: \", len(vocab))\n",
    "vocab_set = set(vocab)\n",
    "print(\"# of unique words: \", len(vocab_set))"
   ]
  },
  {
   "cell_type": "markdown",
   "id": "e5be14b9-6c4a-49a0-8bd4-344e7e2ac425",
   "metadata": {},
   "source": [
    "## Hash table"
   ]
  },
  {
   "cell_type": "code",
   "execution_count": 4,
   "id": "5ccbc8a5-4054-496b-b996-77cbeb3b8870",
   "metadata": {},
   "outputs": [],
   "source": [
    "class Node:\n",
    "    def __init__(self, key, prev=None, nxt=None, val=None):\n",
    "        self.key = key\n",
    "        self.prev = prev\n",
    "        self.next = nxt\n",
    "        self.val = val\n",
    "        \n",
    "\n",
    "class DoublyLinkedList:\n",
    "    \"\"\"\n",
    "    structure:\n",
    "    dummy -> new node -> old node\n",
    "    \"\"\"\n",
    "    def __init__(self, head:Node):\n",
    "        self.dummy = Node(key=None, prev=None, nxt=head)\n",
    "        self.dummy.next.prev = self.dummy\n",
    "        self.size = 1\n",
    "    \n",
    "    def __len__(self):\n",
    "        return self.size\n",
    "        \n",
    "    # def __init__(self):\n",
    "    #     self.dummy = Node(key=None, prev=None, nxt=None)\n",
    "    #     self.size = 0\n",
    "    \n",
    "    # def __init__(self, key:int):\n",
    "    #     self.head = Node(key)\n",
    "    #     self.dummy = Node(key=None, prev=None, nxt=self.head)\n",
    "    #     self.head.prev = self.dummy\n",
    "    #     self.size = 1\n",
    "    \n",
    "    def delete(self, node):\n",
    "        node.prev.next = node.next\n",
    "        if node.next:\n",
    "            node.next.prev = node.prev\n",
    "        self.size -= 1\n",
    "        if self.size == 0:\n",
    "            print(\"empty linked list\")\n",
    "        \n",
    "    def search(self, key):\n",
    "        x = self.dummy.next\n",
    "        while x and x.key != key:\n",
    "            x = x.next\n",
    "        return x\n",
    "    \n",
    "    def insert(self, x):\n",
    "        x.next = self.dummy.next\n",
    "        self.dummy.next.prev = x\n",
    "        self.dummy.next = x\n",
    "        x.prev = self.dummy\n",
    "        self.size += 1\n",
    "    \n",
    "    def print_dll(self):\n",
    "        curr = self.dummy\n",
    "        while curr:\n",
    "            print(curr.key, end=\"->\")\n",
    "            curr = curr.next\n",
    "        print(\"\")\n",
    "        \n",
    "    def delete_by_key(self, key):\n",
    "        node = self.search(key)\n",
    "        self.delete(node)\n",
    "    \n",
    "    "
   ]
  },
  {
   "cell_type": "code",
   "execution_count": 5,
   "id": "31019436-e1e6-4ff9-a3d6-6a5fc383457b",
   "metadata": {},
   "outputs": [
    {
     "name": "stdout",
     "output_type": "stream",
     "text": [
      "None->4->3->2->1->0->\n",
      "length:  5\n"
     ]
    }
   ],
   "source": [
    "h = Node(0)\n",
    "dll = DoublyLinkedList(h)\n",
    "dll.insert(Node(1))\n",
    "dll.insert(Node(2))\n",
    "dll.insert(Node(3))\n",
    "dll.insert(Node(4))\n",
    "dll.print_dll()\n",
    "print(\"length: \",dll.size)"
   ]
  },
  {
   "cell_type": "code",
   "execution_count": 6,
   "id": "a1ad6acb-3f87-407a-aa34-3a6a8f9e356b",
   "metadata": {},
   "outputs": [
    {
     "name": "stdout",
     "output_type": "stream",
     "text": [
      "None->4->3->1->0->\n",
      "length:  4\n"
     ]
    }
   ],
   "source": [
    "dll.delete_by_key(2)\n",
    "dll.print_dll()\n",
    "print(\"length: \",dll.size)"
   ]
  },
  {
   "cell_type": "code",
   "execution_count": 7,
   "id": "9db48611-affd-48d9-946d-8be7b6cbe6f7",
   "metadata": {},
   "outputs": [
    {
     "name": "stdout",
     "output_type": "stream",
     "text": [
      "empty linked list\n"
     ]
    }
   ],
   "source": [
    "curr = dll.dummy.next\n",
    "while curr:\n",
    "    dll.delete(curr)\n",
    "    #dll.print_dll()\n",
    "    curr = curr.next"
   ]
  },
  {
   "cell_type": "code",
   "execution_count": 8,
   "id": "5e297108-a44c-47fd-b850-dbe38bd57c50",
   "metadata": {},
   "outputs": [],
   "source": [
    "class Hashtable:\n",
    "    def __init__(self, hmax):\n",
    "        self.hmax = hmax\n",
    "        self.table = [None] * hmax\n",
    "        self.keys = set()\n",
    "        \n",
    "    def get_keys(self):\n",
    "        return list(self.keys)\n",
    "    \n",
    "    def __getitem__(self, key):\n",
    "        index = self._hash(key)\n",
    "        if self.table[index] is None:\n",
    "            return None\n",
    "        else:\n",
    "            return self.table[index].search(key).val\n",
    "        \n",
    "    def __setitem__(self, key, val):\n",
    "        index = self._hash(key)\n",
    "        if self.table[index] is None:\n",
    "            self.table[index] = DoublyLinkedList(Node(key=key, val=val))\n",
    "        else:\n",
    "            self.table[index].search(key).val = val\n",
    "        \n",
    "    \n",
    "    def chash(self, key): # customized hash function\n",
    "        return hash(key)\n",
    "    \n",
    "    def djb2_hash(self, key):\n",
    "        hash_value = 5381\n",
    "        for char in key:\n",
    "            hash_value = ((hash_value << 5) + hash_value) + ord(char)\n",
    "        return hash_value\n",
    "    \n",
    "    def _hash(self, key): # hash function wrapper\n",
    "        return self.chash(key) % self.hmax\n",
    "    \n",
    "    def insert(self, key, val):\n",
    "        self.keys.add(key)\n",
    "        index = self._hash(key)\n",
    "        if self.table[index] is None:\n",
    "            self.table[index] = DoublyLinkedList(Node(key=key, val=val))\n",
    "        else:\n",
    "            self.table[index].insert(Node(key=key, val=val))\n",
    "    \n",
    "    # bug here\n",
    "    def delete(self, key):\n",
    "        self.keys.remove(key)\n",
    "        index = self._hash(key)\n",
    "        if self.table[index] is None:\n",
    "            raise KeyError()\n",
    "        else:\n",
    "            res = self.table[index].search(key)\n",
    "            if res:\n",
    "                return res\n",
    "            else:\n",
    "                raise KeyError()\n",
    "    \n",
    "    def increase(self, key):\n",
    "        self.keys.add(key)\n",
    "        index = self._hash(key)\n",
    "        if self.table[index] is None:\n",
    "            self.table[index] = DoublyLinkedList(Node(key=key, val=1))\n",
    "        else:\n",
    "            res = self.table[index].search(key)\n",
    "            if res:\n",
    "                res.val += 1\n",
    "            else:\n",
    "                self.table[index].insert(Node(key=key, val=1))\n",
    "    \n",
    "    def get(self, key):\n",
    "        index = self._hash(key)\n",
    "        if self.table[index] is None:\n",
    "            return None\n",
    "        else:\n",
    "            return self.table[index].search(key).val\n",
    "        \n",
    "    def count_collisions(self):\n",
    "        count = []\n",
    "        for dll in self.table:\n",
    "            c = 0\n",
    "            if dll:\n",
    "                curr = dll.dummy.next\n",
    "                while curr:\n",
    "                    c += curr.val\n",
    "                    curr = curr.next\n",
    "                count.append(c)\n",
    "            else:\n",
    "                count.append(0)\n",
    "        return count\n",
    "        \n",
    "            \n",
    "        \n",
    "    "
   ]
  },
  {
   "cell_type": "code",
   "execution_count": 9,
   "id": "f13f4bdc-4622-4cf1-b1dc-88b8632d19bb",
   "metadata": {},
   "outputs": [
    {
     "data": {
      "text/plain": [
       "(413.03333333333336, 413.03333333333336, 223.5827189704567)"
      ]
     },
     "execution_count": 9,
     "metadata": {},
     "output_type": "execute_result"
    }
   ],
   "source": [
    "# add the input text to a hashtable, character by character\n",
    "\n",
    "hmax = 30\n",
    "n = len(vocab)\n",
    "ht = Hashtable(hmax)\n",
    "for word in vocab:\n",
    "    ht.increase(word)\n",
    "n_colli = ht.count_collisions()\n",
    "n/hmax, np.mean(n_colli), np.std(n_colli)"
   ]
  },
  {
   "cell_type": "code",
   "execution_count": null,
   "id": "44dd0b52-2870-4351-97b8-362c5efcc797",
   "metadata": {},
   "outputs": [],
   "source": [
    "ht2 = Hashtable(hmax)\n",
    "for word in vocab:\n",
    "    ht[word] = ht.get(word) + 1"
   ]
  },
  {
   "cell_type": "code",
   "execution_count": 10,
   "id": "fb43f458-40e0-4207-b0d6-c32a67687c3b",
   "metadata": {},
   "outputs": [
    {
     "data": {
      "text/plain": [
       "(41.303333333333335, 41.303333333333335, 72.07355956860248)"
      ]
     },
     "execution_count": 10,
     "metadata": {},
     "output_type": "execute_result"
    }
   ],
   "source": [
    "hmax = 300\n",
    "ht = Hashtable(hmax)\n",
    "for word in vocab:\n",
    "    ht.increase(word)\n",
    "n_colli = ht.count_collisions()\n",
    "n/hmax, np.mean(n_colli), np.std(n_colli)"
   ]
  },
  {
   "cell_type": "code",
   "execution_count": 11,
   "id": "55f8ca60-76be-493e-8be6-1f94c01fae48",
   "metadata": {},
   "outputs": [
    {
     "data": {
      "text/plain": [
       "(12.391, 12.391, 39.902106698769686)"
      ]
     },
     "execution_count": 11,
     "metadata": {},
     "output_type": "execute_result"
    }
   ],
   "source": [
    "hmax = 1000\n",
    "ht = Hashtable(hmax)\n",
    "for word in vocab:\n",
    "    ht.increase(word)\n",
    "n_colli = ht.count_collisions()\n",
    "n/hmax, np.mean(n_colli), np.std(n_colli)"
   ]
  },
  {
   "cell_type": "code",
   "execution_count": null,
   "id": "fcf7afbb-332d-4e12-b8a2-a8d48df10eec",
   "metadata": {},
   "outputs": [],
   "source": []
  },
  {
   "cell_type": "code",
   "execution_count": null,
   "id": "438447d6-c2a7-4780-8bee-1804805db684",
   "metadata": {},
   "outputs": [],
   "source": []
  }
 ],
 "metadata": {
  "kernelspec": {
   "display_name": "Python 3 (ipykernel)",
   "language": "python",
   "name": "python3"
  },
  "language_info": {
   "codemirror_mode": {
    "name": "ipython",
    "version": 3
   },
   "file_extension": ".py",
   "mimetype": "text/x-python",
   "name": "python",
   "nbconvert_exporter": "python",
   "pygments_lexer": "ipython3",
   "version": "3.8.3"
  }
 },
 "nbformat": 4,
 "nbformat_minor": 5
}
